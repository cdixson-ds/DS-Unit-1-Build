{
  "nbformat": 4,
  "nbformat_minor": 0,
  "metadata": {
    "accelerator": "TPU",
    "colab": {
      "name": "IMDB_more_features.ipynb",
      "provenance": [],
      "machine_shape": "hm",
      "include_colab_link": true
    },
    "kernelspec": {
      "display_name": "Python 3",
      "language": "python",
      "name": "python3"
    },
    "language_info": {
      "codemirror_mode": {
        "name": "ipython",
        "version": 3
      },
      "file_extension": ".py",
      "mimetype": "text/x-python",
      "name": "python",
      "nbconvert_exporter": "python",
      "pygments_lexer": "ipython3",
      "version": "3.7.6"
    }
  },
  "cells": [
    {
      "cell_type": "markdown",
      "metadata": {
        "id": "view-in-github",
        "colab_type": "text"
      },
      "source": [
        "<a href=\"https://colab.research.google.com/github/cdixson-ds/DS-Unit-1-Build/blob/master/IMDB_more_features.ipynb\" target=\"_parent\"><img src=\"https://colab.research.google.com/assets/colab-badge.svg\" alt=\"Open In Colab\"/></a>"
      ]
    },
    {
      "cell_type": "code",
      "metadata": {
        "colab_type": "code",
        "id": "s1nustLlSuZj",
        "colab": {}
      },
      "source": [
        "%%capture\n",
        "import sys\n",
        "\n",
        "# If you're on Colab:\n",
        "if 'google.colab' in sys.modules:\n",
        "    !pip install category_encoders==2.*\n",
        "    !pip install pandas-profiling==2.*\n",
        "\n",
        "# If you're working locally:\n",
        "else:\n",
        "    DATA_PATH = '../data/'"
      ],
      "execution_count": 0,
      "outputs": []
    },
    {
      "cell_type": "markdown",
      "metadata": {
        "colab_type": "text",
        "id": "iVEl8JnibITw"
      },
      "source": [
        "Load each dataset from IMDb"
      ]
    },
    {
      "cell_type": "code",
      "metadata": {
        "colab_type": "code",
        "id": "lPDVumfvubEe",
        "colab": {}
      },
      "source": [
        "import pandas as pd"
      ],
      "execution_count": 0,
      "outputs": []
    },
    {
      "cell_type": "code",
      "metadata": {
        "colab_type": "code",
        "id": "9_aimMDuTSq3",
        "colab": {}
      },
      "source": [
        "df_basic = pd.read_csv('https://datasets.imdbws.com/title.basics.tsv.gz', sep='\\t', na_values=[r'\\N','\\\\N'], low_memory=False)"
      ],
      "execution_count": 0,
      "outputs": []
    },
    {
      "cell_type": "code",
      "metadata": {
        "colab_type": "code",
        "id": "mIGvgxk2fTvH",
        "colab": {}
      },
      "source": [
        "df_rating = pd.read_csv('https://datasets.imdbws.com/title.ratings.tsv.gz', sep='\\t', na_values=[r'\\N','\\\\N'], low_memory=False)"
      ],
      "execution_count": 0,
      "outputs": []
    },
    {
      "cell_type": "code",
      "metadata": {
        "colab_type": "code",
        "id": "6fbfCu3vZadP",
        "colab": {}
      },
      "source": [
        "#df_crew = pd.read_csv('https://datasets.imdbws.com/title.crew.tsv.gz', sep='\\t', na_values=[r'\\N','\\\\N'], low_memory=False)"
      ],
      "execution_count": 0,
      "outputs": []
    },
    {
      "cell_type": "code",
      "metadata": {
        "colab_type": "code",
        "id": "N9aMpSuNYH-w",
        "colab": {}
      },
      "source": [
        "df_princ = pd.read_csv('https://datasets.imdbws.com/title.principals.tsv.gz', sep='\\t', na_values=[r'\\N','\\\\N'], low_memory=False)"
      ],
      "execution_count": 0,
      "outputs": []
    },
    {
      "cell_type": "code",
      "metadata": {
        "id": "Sc8uZ73RBliz",
        "colab_type": "code",
        "colab": {}
      },
      "source": [
        "df_akas = pd.read_csv('https://datasets.imdbws.com/title.akas.tsv.gz', sep='\\t', na_values=[r'\\N','\\\\N'], low_memory=False)"
      ],
      "execution_count": 0,
      "outputs": []
    },
    {
      "cell_type": "code",
      "metadata": {
        "colab_type": "code",
        "id": "tsYfk5MiXaWa",
        "outputId": "d7feb432-8a0f-498b-91a7-3f4447081f4a",
        "scrolled": true,
        "colab": {
          "base_uri": "https://localhost:8080/",
          "height": 90
        }
      },
      "source": [
        "print('df_basic shape: ', df_basic.shape),\n",
        "print('df_rating shape: ', df_rating.shape),\n",
        "#print('df_crew shape: ', df_crew.shape),\n",
        "print('df_princ shape: ', df_princ.shape)"
      ],
      "execution_count": 0,
      "outputs": [
        {
          "output_type": "stream",
          "text": [
            "df_basic shape:  (6521410, 9)\n",
            "df_rating shape:  (1021688, 3)\n",
            "df_princ shape:  (37699185, 6)\n"
          ],
          "name": "stdout"
        }
      ]
    },
    {
      "cell_type": "markdown",
      "metadata": {
        "colab_type": "text",
        "id": "DhdEpbYzdwxt"
      },
      "source": [
        "Wrangel each dataframe separately"
      ]
    },
    {
      "cell_type": "code",
      "metadata": {
        "colab_type": "code",
        "id": "10W0jvoRX5gB",
        "colab": {}
      },
      "source": [
        "def wrangleBasic(df):\n",
        "  df['tconst'] = df['tconst'].astype(str)\n",
        "  df['tconst'] = df['tconst'].str.strip('tt')  #strip tt off movie id\n",
        "  df['tconst'] = df['tconst'].astype(int)  #convert tconst to int\n",
        "  df = df[~df['titleType'].isin(['short', 'tvShort', 'videoGame', 'tvSpecial',\n",
        "                                 'tvMiniSeries', 'tvMovie', 'tvSeries', 'video',\n",
        "                                 'short', 'tvEpisode'])]  #remove tv titles\n",
        "  #df = df.drop(columns=['originalTitle', 'isAdult', 'originalTitle','primaryTitle', 'runtimeMinutes', 'endYear', 'titleType']) #remove columns\n",
        "  df = df.drop(columns=['originalTitle', 'primaryTitle', 'endYear', 'titleType']) #remove less columns to explore feature importance\n",
        "  df = df.dropna()  #drop nans\n",
        "  df['startYear'] = df['startYear'].astype(int) #convert startYear to int\n",
        "  df['runtimeMinutes'] = df['runtimeMinutes'].astype(int) #convert startYear to int\n",
        "  df['genres'] = df['genres'].str.lower() #convert genres to lower case\n",
        "\n",
        "  drama = df['genres'].str.contains('drama')    #collapse genres into single categories\n",
        "  comedy = df['genres'].str.contains('comedy')\n",
        "  documentary = df['genres'].str.contains('documentary')\n",
        "  romance = df['genres'].str.contains('romance')\n",
        "  family = df['genres'].str.contains('family')\n",
        "  animation = df['genres'].str.contains('animation')\n",
        "  crime = df['genres'].str.contains('crime')\n",
        "  action = df['genres'].str.contains('action')\n",
        "  adventure = df['genres'].str.contains('adventure')\n",
        "  mystery = df['genres'].str.contains('mystery')\n",
        "  musical = df['genres'].str.contains('musical')\n",
        "  thriller = df['genres'].str.contains('thriller')\n",
        "  horror = df['genres'].str.contains('horror')\n",
        "  sci_fi = df['genres'].str.contains('sci')\n",
        "  fantasy = df['genres'].str.contains('fantasy')\n",
        "  war = df['genres'].str.contains('war')\n",
        "  western = df['genres'].str.contains('western')\n",
        "  film_noir = df['genres'].str.contains('film')\n",
        "  mystery = df['genres'].str.contains('mystery')\n",
        "  history = df['genres'].str.contains('history')\n",
        "  sport = df['genres'].str.contains('sport')\n",
        "  biography = df['genres'].str.contains('biography')\n",
        "\n",
        "  df.loc[drama, 'genres'] = 'drama'\n",
        "  df.loc[comedy, 'genres'] = 'comedy'\n",
        "  df.loc[documentary, 'genres'] = 'documentary'\n",
        "  df.loc[romance, 'genres'] = 'romance'\n",
        "  df.loc[family, 'genres'] = 'family'\n",
        "  df.loc[animation, 'genres'] = 'animation'\n",
        "  df.loc[crime, 'genres'] = 'crime'\n",
        "  df.loc[action, 'genres'] = 'action'\n",
        "  df.loc[adventure, 'genres'] = 'adventure'\n",
        "  df.loc[mystery, 'genres'] = 'mystery'\n",
        "  df.loc[thriller, 'genres'] = 'thriller'\n",
        "  df.loc[horror, 'genres'] = 'horror'\n",
        "  df.loc[sci_fi, 'genres']  ='sci_fi'\n",
        "  df.loc[fantasy, 'genres']  ='fantasy'\n",
        "  df.loc[war, 'genres']  ='war'\n",
        "  df.loc[western, 'genres']  ='western'\n",
        "  df.loc[film_noir, 'genres'] ='film_noir'\n",
        "  df.loc[mystery, 'genres'] ='mystery'\n",
        "  df.loc[history, 'genres'] ='history'\n",
        "  df.loc[sport, 'genres'] ='sport'\n",
        "  df.loc[biography, 'genres'] ='biography'\n",
        "\n",
        "  df = df[~df['genres'].isin(['music,reality-tv''reality-tv,talk-show', \n",
        "                                              'news,talk-show',\n",
        "                                              'news,talk-show',\n",
        "                                              'adult,music',\n",
        "                                              'music,talk-show',\n",
        "                                              'news,reality-tv,talk-show',\n",
        "                                              'game-show,music',\n",
        "                                              'adult,short',\n",
        "                                              'music,musical',\n",
        "                                              'adult,musical',\n",
        "                                              'music,musical,reality-tv',\n",
        "                                              'musical,reality-tv',\n",
        "                                              'short',\n",
        "                                              'reality-tv,talk-show',\n",
        "                                              'news',\n",
        "                                              'talk-show',\n",
        "                                              'reality-tv',\n",
        "                                              'game-show',\n",
        "                                              '\\\\n',\n",
        "                                              'music,reality-tv',\n",
        "                                              'music'\n",
        "                                              ])]\n",
        "    \n",
        "  df = df[df['startYear'] > 1950]\n",
        "  df = df[df['isAdult'] == 0]\n",
        "  df = df.drop(columns=['isAdult'])\n",
        "\n",
        "  df = df.reset_index(drop=True)\n",
        "\n",
        "  return df"
      ],
      "execution_count": 0,
      "outputs": []
    },
    {
      "cell_type": "code",
      "metadata": {
        "colab_type": "code",
        "id": "-Me9ZeCGeS2m",
        "colab": {}
      },
      "source": [
        "df_basic = wrangleBasic(df_basic)"
      ],
      "execution_count": 0,
      "outputs": []
    },
    {
      "cell_type": "code",
      "metadata": {
        "colab_type": "code",
        "id": "C6Cz5dYbertL",
        "outputId": "06c357b3-e5b2-4673-f2b9-d052bcda5716",
        "colab": {
          "base_uri": "https://localhost:8080/",
          "height": 198
        }
      },
      "source": [
        "df_basic.head()"
      ],
      "execution_count": 0,
      "outputs": [
        {
          "output_type": "execute_result",
          "data": {
            "text/html": [
              "<div>\n",
              "<style scoped>\n",
              "    .dataframe tbody tr th:only-of-type {\n",
              "        vertical-align: middle;\n",
              "    }\n",
              "\n",
              "    .dataframe tbody tr th {\n",
              "        vertical-align: top;\n",
              "    }\n",
              "\n",
              "    .dataframe thead th {\n",
              "        text-align: right;\n",
              "    }\n",
              "</style>\n",
              "<table border=\"1\" class=\"dataframe\">\n",
              "  <thead>\n",
              "    <tr style=\"text-align: right;\">\n",
              "      <th></th>\n",
              "      <th>tconst</th>\n",
              "      <th>startYear</th>\n",
              "      <th>runtimeMinutes</th>\n",
              "      <th>genres</th>\n",
              "    </tr>\n",
              "  </thead>\n",
              "  <tbody>\n",
              "    <tr>\n",
              "      <th>0</th>\n",
              "      <td>15724</td>\n",
              "      <td>1993</td>\n",
              "      <td>102</td>\n",
              "      <td>mystery</td>\n",
              "    </tr>\n",
              "    <tr>\n",
              "      <th>1</th>\n",
              "      <td>16906</td>\n",
              "      <td>2014</td>\n",
              "      <td>80</td>\n",
              "      <td>comedy</td>\n",
              "    </tr>\n",
              "    <tr>\n",
              "      <th>2</th>\n",
              "      <td>22064</td>\n",
              "      <td>1951</td>\n",
              "      <td>100</td>\n",
              "      <td>drama</td>\n",
              "    </tr>\n",
              "    <tr>\n",
              "      <th>3</th>\n",
              "      <td>23331</td>\n",
              "      <td>1983</td>\n",
              "      <td>50</td>\n",
              "      <td>documentary</td>\n",
              "    </tr>\n",
              "    <tr>\n",
              "      <th>4</th>\n",
              "      <td>25557</td>\n",
              "      <td>1951</td>\n",
              "      <td>87</td>\n",
              "      <td>drama</td>\n",
              "    </tr>\n",
              "  </tbody>\n",
              "</table>\n",
              "</div>"
            ],
            "text/plain": [
              "   tconst  startYear  runtimeMinutes       genres\n",
              "0   15724       1993             102      mystery\n",
              "1   16906       2014              80       comedy\n",
              "2   22064       1951             100        drama\n",
              "3   23331       1983              50  documentary\n",
              "4   25557       1951              87        drama"
            ]
          },
          "metadata": {
            "tags": []
          },
          "execution_count": 12
        }
      ]
    },
    {
      "cell_type": "code",
      "metadata": {
        "colab_type": "code",
        "id": "ImLj6UlWe--2",
        "outputId": "5b55661d-d95f-4f7a-b737-6e23b9be827c",
        "colab": {
          "base_uri": "https://localhost:8080/",
          "height": 108
        }
      },
      "source": [
        "df_basic.dtypes"
      ],
      "execution_count": 0,
      "outputs": [
        {
          "output_type": "execute_result",
          "data": {
            "text/plain": [
              "tconst             int32\n",
              "startYear          int32\n",
              "runtimeMinutes     int32\n",
              "genres            object\n",
              "dtype: object"
            ]
          },
          "metadata": {
            "tags": []
          },
          "execution_count": 67
        }
      ]
    },
    {
      "cell_type": "code",
      "metadata": {
        "id": "DSNWALYJBlkB",
        "colab_type": "code",
        "colab": {},
        "outputId": "22642001-af8b-4d46-9ab0-731819e57506"
      },
      "source": [
        "df_basic.shape"
      ],
      "execution_count": 0,
      "outputs": [
        {
          "output_type": "execute_result",
          "data": {
            "text/plain": [
              "(279702, 4)"
            ]
          },
          "metadata": {
            "tags": []
          },
          "execution_count": 84
        }
      ]
    },
    {
      "cell_type": "code",
      "metadata": {
        "colab_type": "code",
        "id": "2TnwCHs7ewNU",
        "colab": {}
      },
      "source": [
        "def wrangleRating(df):\n",
        "\n",
        "  #df = df.drop(columns=['numVotes']) #remove columns\n",
        "  df['tconst'] = df['tconst'].astype(str)\n",
        "  df['tconst'] = df['tconst'].str.strip('tt')  #strip tt off movie id\n",
        "  df['tconst'] = df['tconst'].astype(int)  #convert tconst to int\n",
        "\n",
        "  df = df.dropna()  #drop nans\n",
        "\n",
        "  #engineer a new feature which multiplies the number of votes by average rating\n",
        "  #pop = df_rating['averageRating'] * df_rating['numVotes']\n",
        "  #df = pd.concat([df, pop], axis=1)\n",
        "  #df.columns = ['tconst', 'averageRating', 'numVotes', 'popVote']\n",
        "\n",
        "  #df = df.reset_index(drop=True)\n",
        "    \n",
        "  #df = df[df['averageRating'] > 7]\n",
        "\n",
        "  #convert averageRating into a categorical feature\n",
        "  df['averageRating'] = df['averageRating'].astype(str)\n",
        "  df['averageRating'] = df['averageRating'].astype('category')\n",
        "\n",
        "  return df"
      ],
      "execution_count": 0,
      "outputs": []
    },
    {
      "cell_type": "code",
      "metadata": {
        "colab_type": "code",
        "id": "TB5eYVXAiV5m",
        "colab": {}
      },
      "source": [
        "df_rating = wrangleRating(df_rating)"
      ],
      "execution_count": 0,
      "outputs": []
    },
    {
      "cell_type": "code",
      "metadata": {
        "colab_type": "code",
        "id": "-FTQa-8-laD7",
        "outputId": "976c4207-3f39-4579-a867-4ee744dbfa55",
        "colab": {
          "base_uri": "https://localhost:8080/",
          "height": 198
        }
      },
      "source": [
        "df_rating.head()"
      ],
      "execution_count": 0,
      "outputs": [
        {
          "output_type": "execute_result",
          "data": {
            "text/html": [
              "<div>\n",
              "<style scoped>\n",
              "    .dataframe tbody tr th:only-of-type {\n",
              "        vertical-align: middle;\n",
              "    }\n",
              "\n",
              "    .dataframe tbody tr th {\n",
              "        vertical-align: top;\n",
              "    }\n",
              "\n",
              "    .dataframe thead th {\n",
              "        text-align: right;\n",
              "    }\n",
              "</style>\n",
              "<table border=\"1\" class=\"dataframe\">\n",
              "  <thead>\n",
              "    <tr style=\"text-align: right;\">\n",
              "      <th></th>\n",
              "      <th>tconst</th>\n",
              "      <th>averageRating</th>\n",
              "      <th>numVotes</th>\n",
              "    </tr>\n",
              "  </thead>\n",
              "  <tbody>\n",
              "    <tr>\n",
              "      <th>11</th>\n",
              "      <td>12</td>\n",
              "      <td>7.4</td>\n",
              "      <td>9605</td>\n",
              "    </tr>\n",
              "    <tr>\n",
              "      <th>13</th>\n",
              "      <td>14</td>\n",
              "      <td>7.1</td>\n",
              "      <td>4204</td>\n",
              "    </tr>\n",
              "    <tr>\n",
              "      <th>58</th>\n",
              "      <td>60</td>\n",
              "      <td>7.8</td>\n",
              "      <td>60</td>\n",
              "    </tr>\n",
              "    <tr>\n",
              "      <th>189</th>\n",
              "      <td>211</td>\n",
              "      <td>7.5</td>\n",
              "      <td>3122</td>\n",
              "    </tr>\n",
              "    <tr>\n",
              "      <th>218</th>\n",
              "      <td>271</td>\n",
              "      <td>7.3</td>\n",
              "      <td>6</td>\n",
              "    </tr>\n",
              "  </tbody>\n",
              "</table>\n",
              "</div>"
            ],
            "text/plain": [
              "     tconst averageRating  numVotes\n",
              "11       12           7.4      9605\n",
              "13       14           7.1      4204\n",
              "58       60           7.8        60\n",
              "189     211           7.5      3122\n",
              "218     271           7.3         6"
            ]
          },
          "metadata": {
            "tags": []
          },
          "execution_count": 132
        }
      ]
    },
    {
      "cell_type": "code",
      "metadata": {
        "colab_type": "code",
        "id": "_lVfvHjmldHa",
        "outputId": "84ec1c53-7667-4126-806d-484cf0ea4793",
        "colab": {
          "base_uri": "https://localhost:8080/",
          "height": 35
        }
      },
      "source": [
        "df_rating.shape"
      ],
      "execution_count": 0,
      "outputs": [
        {
          "output_type": "execute_result",
          "data": {
            "text/plain": [
              "(516073, 3)"
            ]
          },
          "metadata": {
            "tags": []
          },
          "execution_count": 133
        }
      ]
    },
    {
      "cell_type": "code",
      "metadata": {
        "colab_type": "code",
        "id": "0Om_WXGQvCpv",
        "colab": {}
      },
      "source": [
        "#def wrangleCrew(df):\n",
        "#  df = df.copy()\n",
        "\n",
        "#  df = df.dropna()  #drop nans\n",
        "  \n",
        "#  df['tconst'] = df['tconst'].astype(str)\n",
        "#  df['tconst'] = df['tconst'].str.strip('tt')  #strip tt off movie id\n",
        "#  df['tconst'] = df['tconst'].astype(int)  #convert tconst to int\n",
        "    \n",
        "#  df = df.drop(columns=['writers'])\n",
        "    \n",
        "#  return df\n"
      ],
      "execution_count": 0,
      "outputs": []
    },
    {
      "cell_type": "code",
      "metadata": {
        "colab_type": "code",
        "id": "0xFjGAuUxDzO",
        "colab": {}
      },
      "source": [
        "#df_crew = wrangleCrew(df_crew)"
      ],
      "execution_count": 0,
      "outputs": []
    },
    {
      "cell_type": "code",
      "metadata": {
        "colab_type": "code",
        "id": "XHlPGlL9vvCr",
        "colab": {}
      },
      "source": [
        "#df_crew.head()"
      ],
      "execution_count": 0,
      "outputs": []
    },
    {
      "cell_type": "code",
      "metadata": {
        "colab_type": "code",
        "id": "M5rm0bNn0yF5",
        "colab": {}
      },
      "source": [
        "#df_crew.tail()"
      ],
      "execution_count": 0,
      "outputs": []
    },
    {
      "cell_type": "code",
      "metadata": {
        "colab_type": "code",
        "id": "HAusXmWU2RMG",
        "outputId": "3e4b6cd8-18a6-4634-bc20-cbe32954fa6f",
        "colab": {
          "base_uri": "https://localhost:8080/",
          "height": 198
        }
      },
      "source": [
        "df_princ.head()"
      ],
      "execution_count": 0,
      "outputs": [
        {
          "output_type": "execute_result",
          "data": {
            "text/html": [
              "<div>\n",
              "<style scoped>\n",
              "    .dataframe tbody tr th:only-of-type {\n",
              "        vertical-align: middle;\n",
              "    }\n",
              "\n",
              "    .dataframe tbody tr th {\n",
              "        vertical-align: top;\n",
              "    }\n",
              "\n",
              "    .dataframe thead th {\n",
              "        text-align: right;\n",
              "    }\n",
              "</style>\n",
              "<table border=\"1\" class=\"dataframe\">\n",
              "  <thead>\n",
              "    <tr style=\"text-align: right;\">\n",
              "      <th></th>\n",
              "      <th>tconst</th>\n",
              "      <th>ordering</th>\n",
              "      <th>nconst</th>\n",
              "      <th>category</th>\n",
              "      <th>job</th>\n",
              "      <th>characters</th>\n",
              "    </tr>\n",
              "  </thead>\n",
              "  <tbody>\n",
              "    <tr>\n",
              "      <th>0</th>\n",
              "      <td>tt0000001</td>\n",
              "      <td>1</td>\n",
              "      <td>nm1588970</td>\n",
              "      <td>self</td>\n",
              "      <td>NaN</td>\n",
              "      <td>[\"Herself\"]</td>\n",
              "    </tr>\n",
              "    <tr>\n",
              "      <th>1</th>\n",
              "      <td>tt0000001</td>\n",
              "      <td>2</td>\n",
              "      <td>nm0005690</td>\n",
              "      <td>director</td>\n",
              "      <td>NaN</td>\n",
              "      <td>NaN</td>\n",
              "    </tr>\n",
              "    <tr>\n",
              "      <th>2</th>\n",
              "      <td>tt0000001</td>\n",
              "      <td>3</td>\n",
              "      <td>nm0374658</td>\n",
              "      <td>cinematographer</td>\n",
              "      <td>director of photography</td>\n",
              "      <td>NaN</td>\n",
              "    </tr>\n",
              "    <tr>\n",
              "      <th>3</th>\n",
              "      <td>tt0000002</td>\n",
              "      <td>1</td>\n",
              "      <td>nm0721526</td>\n",
              "      <td>director</td>\n",
              "      <td>NaN</td>\n",
              "      <td>NaN</td>\n",
              "    </tr>\n",
              "    <tr>\n",
              "      <th>4</th>\n",
              "      <td>tt0000002</td>\n",
              "      <td>2</td>\n",
              "      <td>nm1335271</td>\n",
              "      <td>composer</td>\n",
              "      <td>NaN</td>\n",
              "      <td>NaN</td>\n",
              "    </tr>\n",
              "  </tbody>\n",
              "</table>\n",
              "</div>"
            ],
            "text/plain": [
              "      tconst  ordering     nconst         category                      job  \\\n",
              "0  tt0000001         1  nm1588970             self                      NaN   \n",
              "1  tt0000001         2  nm0005690         director                      NaN   \n",
              "2  tt0000001         3  nm0374658  cinematographer  director of photography   \n",
              "3  tt0000002         1  nm0721526         director                      NaN   \n",
              "4  tt0000002         2  nm1335271         composer                      NaN   \n",
              "\n",
              "    characters  \n",
              "0  [\"Herself\"]  \n",
              "1          NaN  \n",
              "2          NaN  \n",
              "3          NaN  \n",
              "4          NaN  "
            ]
          },
          "metadata": {
            "tags": []
          },
          "execution_count": 34
        }
      ]
    },
    {
      "cell_type": "code",
      "metadata": {
        "colab_type": "code",
        "id": "hz4gkRCK6EJm",
        "colab": {}
      },
      "source": [
        "def wranglePrinc(df):\n",
        "  df = df.copy()\n",
        "  df['tconst'] = df['tconst'].astype(str)\n",
        "  df['tconst'] = df['tconst'].str.strip('tt')  #strip tt off movie id\n",
        "  df['tconst'] = df['tconst'].astype(int)  #convert tconst to int\n",
        "\n",
        "  df = df.drop(columns=['ordering', 'category', 'job', 'characters']) #remove less columns to explore feature importance\n",
        "  df = df.dropna()  #drop nans\n",
        "  return df"
      ],
      "execution_count": 0,
      "outputs": []
    },
    {
      "cell_type": "code",
      "metadata": {
        "colab_type": "code",
        "id": "oQrZ-dH24VIE",
        "scrolled": true,
        "colab": {}
      },
      "source": [
        "df_princ = wranglePrinc(df_princ)"
      ],
      "execution_count": 0,
      "outputs": []
    },
    {
      "cell_type": "code",
      "metadata": {
        "colab_type": "code",
        "id": "h0dECOpO5aIw",
        "outputId": "b0b10dd6-f8dd-4bd8-984e-7087de0b6f65",
        "colab": {
          "base_uri": "https://localhost:8080/",
          "height": 198
        }
      },
      "source": [
        "df_princ.head()"
      ],
      "execution_count": 0,
      "outputs": [
        {
          "output_type": "execute_result",
          "data": {
            "text/html": [
              "<div>\n",
              "<style scoped>\n",
              "    .dataframe tbody tr th:only-of-type {\n",
              "        vertical-align: middle;\n",
              "    }\n",
              "\n",
              "    .dataframe tbody tr th {\n",
              "        vertical-align: top;\n",
              "    }\n",
              "\n",
              "    .dataframe thead th {\n",
              "        text-align: right;\n",
              "    }\n",
              "</style>\n",
              "<table border=\"1\" class=\"dataframe\">\n",
              "  <thead>\n",
              "    <tr style=\"text-align: right;\">\n",
              "      <th></th>\n",
              "      <th>tconst</th>\n",
              "      <th>nconst</th>\n",
              "    </tr>\n",
              "  </thead>\n",
              "  <tbody>\n",
              "    <tr>\n",
              "      <th>0</th>\n",
              "      <td>1</td>\n",
              "      <td>nm1588970</td>\n",
              "    </tr>\n",
              "    <tr>\n",
              "      <th>1</th>\n",
              "      <td>1</td>\n",
              "      <td>nm0005690</td>\n",
              "    </tr>\n",
              "    <tr>\n",
              "      <th>2</th>\n",
              "      <td>1</td>\n",
              "      <td>nm0374658</td>\n",
              "    </tr>\n",
              "    <tr>\n",
              "      <th>3</th>\n",
              "      <td>2</td>\n",
              "      <td>nm0721526</td>\n",
              "    </tr>\n",
              "    <tr>\n",
              "      <th>4</th>\n",
              "      <td>2</td>\n",
              "      <td>nm1335271</td>\n",
              "    </tr>\n",
              "  </tbody>\n",
              "</table>\n",
              "</div>"
            ],
            "text/plain": [
              "   tconst     nconst\n",
              "0       1  nm1588970\n",
              "1       1  nm0005690\n",
              "2       1  nm0374658\n",
              "3       2  nm0721526\n",
              "4       2  nm1335271"
            ]
          },
          "metadata": {
            "tags": []
          },
          "execution_count": 37
        }
      ]
    },
    {
      "cell_type": "code",
      "metadata": {
        "id": "Ljn9MfqWBlmM",
        "colab_type": "code",
        "colab": {},
        "outputId": "11bfdb7a-1815-43ab-acec-b84ca4b5bd5f"
      },
      "source": [
        "df_akas.head()"
      ],
      "execution_count": 0,
      "outputs": [
        {
          "output_type": "execute_result",
          "data": {
            "text/html": [
              "<div>\n",
              "<style scoped>\n",
              "    .dataframe tbody tr th:only-of-type {\n",
              "        vertical-align: middle;\n",
              "    }\n",
              "\n",
              "    .dataframe tbody tr th {\n",
              "        vertical-align: top;\n",
              "    }\n",
              "\n",
              "    .dataframe thead th {\n",
              "        text-align: right;\n",
              "    }\n",
              "</style>\n",
              "<table border=\"1\" class=\"dataframe\">\n",
              "  <thead>\n",
              "    <tr style=\"text-align: right;\">\n",
              "      <th></th>\n",
              "      <th>tconst</th>\n",
              "      <th>region</th>\n",
              "    </tr>\n",
              "  </thead>\n",
              "  <tbody>\n",
              "    <tr>\n",
              "      <th>3</th>\n",
              "      <td>1</td>\n",
              "      <td>US</td>\n",
              "    </tr>\n",
              "    <tr>\n",
              "      <th>11</th>\n",
              "      <td>2</td>\n",
              "      <td>US</td>\n",
              "    </tr>\n",
              "    <tr>\n",
              "      <th>27</th>\n",
              "      <td>5</td>\n",
              "      <td>US</td>\n",
              "    </tr>\n",
              "    <tr>\n",
              "      <th>30</th>\n",
              "      <td>5</td>\n",
              "      <td>US</td>\n",
              "    </tr>\n",
              "    <tr>\n",
              "      <th>31</th>\n",
              "      <td>5</td>\n",
              "      <td>US</td>\n",
              "    </tr>\n",
              "  </tbody>\n",
              "</table>\n",
              "</div>"
            ],
            "text/plain": [
              "    tconst region\n",
              "3        1     US\n",
              "11       2     US\n",
              "27       5     US\n",
              "30       5     US\n",
              "31       5     US"
            ]
          },
          "metadata": {
            "tags": []
          },
          "execution_count": 22
        }
      ]
    },
    {
      "cell_type": "code",
      "metadata": {
        "id": "opzxx0uBBlmV",
        "colab_type": "code",
        "colab": {}
      },
      "source": [
        " def wrangleAkas(df):\n",
        "    df = df.copy()\n",
        "    df = df.drop(columns=['ordering', 'title', 'language', 'types', 'attributes', 'isOriginalTitle'])\n",
        "    df = df.dropna()  #drop nans\n",
        "    df = df[df['region'].str.contains('US')]\n",
        "    \n",
        "    df['titleId'] = df['titleId'].astype(str)\n",
        "    df['titleId'] = df['titleId'].str.strip('tt')  #strip tt off movie id\n",
        "    df['titleId'] = df['titleId'].astype(int)  #convert tconst to int\n",
        "    \n",
        "    df.columns = ['tconst','region']\n",
        "                \n",
        "    return df"
      ],
      "execution_count": 0,
      "outputs": []
    },
    {
      "cell_type": "code",
      "metadata": {
        "id": "dq94ZybEBlmc",
        "colab_type": "code",
        "colab": {}
      },
      "source": [
        "df_akas = wrangleAkas(df_akas)"
      ],
      "execution_count": 0,
      "outputs": []
    },
    {
      "cell_type": "markdown",
      "metadata": {
        "colab_type": "text",
        "id": "R12_rtzr-CL9"
      },
      "source": [
        "Merge dataframes"
      ]
    },
    {
      "cell_type": "code",
      "metadata": {
        "colab_type": "code",
        "id": "I4hN5opC-Bij",
        "colab": {}
      },
      "source": [
        "df_imdb = pd.merge(df_basic, df_rating, on='tconst')"
      ],
      "execution_count": 0,
      "outputs": []
    },
    {
      "cell_type": "code",
      "metadata": {
        "colab_type": "code",
        "id": "OXW5_GYT-meg",
        "outputId": "bb8dacb7-afb6-4737-9507-d618ab3192fb",
        "colab": {
          "base_uri": "https://localhost:8080/",
          "height": 198
        }
      },
      "source": [
        "df_imdb.head()"
      ],
      "execution_count": 0,
      "outputs": [
        {
          "output_type": "execute_result",
          "data": {
            "text/html": [
              "<div>\n",
              "<style scoped>\n",
              "    .dataframe tbody tr th:only-of-type {\n",
              "        vertical-align: middle;\n",
              "    }\n",
              "\n",
              "    .dataframe tbody tr th {\n",
              "        vertical-align: top;\n",
              "    }\n",
              "\n",
              "    .dataframe thead th {\n",
              "        text-align: right;\n",
              "    }\n",
              "</style>\n",
              "<table border=\"1\" class=\"dataframe\">\n",
              "  <thead>\n",
              "    <tr style=\"text-align: right;\">\n",
              "      <th></th>\n",
              "      <th>tconst</th>\n",
              "      <th>startYear</th>\n",
              "      <th>runtimeMinutes</th>\n",
              "      <th>genres</th>\n",
              "      <th>averageRating</th>\n",
              "      <th>numVotes</th>\n",
              "    </tr>\n",
              "  </thead>\n",
              "  <tbody>\n",
              "    <tr>\n",
              "      <th>0</th>\n",
              "      <td>25557</td>\n",
              "      <td>1951</td>\n",
              "      <td>87</td>\n",
              "      <td>drama</td>\n",
              "      <td>7.1</td>\n",
              "      <td>29</td>\n",
              "    </tr>\n",
              "    <tr>\n",
              "      <th>1</th>\n",
              "      <td>31458</td>\n",
              "      <td>1970</td>\n",
              "      <td>86</td>\n",
              "      <td>comedy</td>\n",
              "      <td>7.1</td>\n",
              "      <td>8</td>\n",
              "    </tr>\n",
              "    <tr>\n",
              "      <th>2</th>\n",
              "      <td>37483</td>\n",
              "      <td>1951</td>\n",
              "      <td>99</td>\n",
              "      <td>drama</td>\n",
              "      <td>7.4</td>\n",
              "      <td>18</td>\n",
              "    </tr>\n",
              "    <tr>\n",
              "      <th>3</th>\n",
              "      <td>38089</td>\n",
              "      <td>1954</td>\n",
              "      <td>87</td>\n",
              "      <td>war</td>\n",
              "      <td>7.2</td>\n",
              "      <td>40</td>\n",
              "    </tr>\n",
              "    <tr>\n",
              "      <th>4</th>\n",
              "      <td>42215</td>\n",
              "      <td>1951</td>\n",
              "      <td>85</td>\n",
              "      <td>romance</td>\n",
              "      <td>7.5</td>\n",
              "      <td>58</td>\n",
              "    </tr>\n",
              "  </tbody>\n",
              "</table>\n",
              "</div>"
            ],
            "text/plain": [
              "   tconst  startYear  runtimeMinutes   genres averageRating  numVotes\n",
              "0   25557       1951              87    drama           7.1        29\n",
              "1   31458       1970              86   comedy           7.1         8\n",
              "2   37483       1951              99    drama           7.4        18\n",
              "3   38089       1954              87      war           7.2        40\n",
              "4   42215       1951              85  romance           7.5        58"
            ]
          },
          "metadata": {
            "tags": []
          },
          "execution_count": 166
        }
      ]
    },
    {
      "cell_type": "code",
      "metadata": {
        "colab_type": "code",
        "id": "fzhxjs6L-rse",
        "outputId": "31fb58da-5ca6-4e36-cb79-6d5139661765",
        "colab": {
          "base_uri": "https://localhost:8080/",
          "height": 35
        }
      },
      "source": [
        "df_imdb.shape"
      ],
      "execution_count": 0,
      "outputs": [
        {
          "output_type": "execute_result",
          "data": {
            "text/plain": [
              "(49977, 6)"
            ]
          },
          "metadata": {
            "tags": []
          },
          "execution_count": 167
        }
      ]
    },
    {
      "cell_type": "code",
      "metadata": {
        "colab_type": "code",
        "id": "7vdbtrQH-ibM",
        "colab": {}
      },
      "source": [
        "df_imdb = pd.merge(df_imdb, df_akas, on='tconst')"
      ],
      "execution_count": 0,
      "outputs": []
    },
    {
      "cell_type": "code",
      "metadata": {
        "colab_type": "code",
        "id": "PldmoTBJ-_uZ",
        "outputId": "ce0cf2d2-745c-49fa-db90-5a1756771b01",
        "colab": {
          "base_uri": "https://localhost:8080/",
          "height": 198
        }
      },
      "source": [
        "df_imdb.head()"
      ],
      "execution_count": 0,
      "outputs": [
        {
          "output_type": "execute_result",
          "data": {
            "text/html": [
              "<div>\n",
              "<style scoped>\n",
              "    .dataframe tbody tr th:only-of-type {\n",
              "        vertical-align: middle;\n",
              "    }\n",
              "\n",
              "    .dataframe tbody tr th {\n",
              "        vertical-align: top;\n",
              "    }\n",
              "\n",
              "    .dataframe thead th {\n",
              "        text-align: right;\n",
              "    }\n",
              "</style>\n",
              "<table border=\"1\" class=\"dataframe\">\n",
              "  <thead>\n",
              "    <tr style=\"text-align: right;\">\n",
              "      <th></th>\n",
              "      <th>tconst</th>\n",
              "      <th>startYear</th>\n",
              "      <th>runtimeMinutes</th>\n",
              "      <th>genres</th>\n",
              "      <th>averageRating</th>\n",
              "      <th>numVotes</th>\n",
              "      <th>region</th>\n",
              "    </tr>\n",
              "  </thead>\n",
              "  <tbody>\n",
              "    <tr>\n",
              "      <th>0</th>\n",
              "      <td>42354</td>\n",
              "      <td>1951</td>\n",
              "      <td>99</td>\n",
              "      <td>mystery</td>\n",
              "      <td>7.2</td>\n",
              "      <td>184</td>\n",
              "      <td>US</td>\n",
              "    </tr>\n",
              "    <tr>\n",
              "      <th>1</th>\n",
              "      <td>42354</td>\n",
              "      <td>1951</td>\n",
              "      <td>99</td>\n",
              "      <td>mystery</td>\n",
              "      <td>7.2</td>\n",
              "      <td>184</td>\n",
              "      <td>US</td>\n",
              "    </tr>\n",
              "    <tr>\n",
              "      <th>2</th>\n",
              "      <td>42429</td>\n",
              "      <td>1951</td>\n",
              "      <td>88</td>\n",
              "      <td>comedy</td>\n",
              "      <td>7.1</td>\n",
              "      <td>407</td>\n",
              "      <td>US</td>\n",
              "    </tr>\n",
              "    <tr>\n",
              "      <th>3</th>\n",
              "      <td>42619</td>\n",
              "      <td>1951</td>\n",
              "      <td>115</td>\n",
              "      <td>drama</td>\n",
              "      <td>8.0</td>\n",
              "      <td>8843</td>\n",
              "      <td>US</td>\n",
              "    </tr>\n",
              "    <tr>\n",
              "      <th>4</th>\n",
              "      <td>42900</td>\n",
              "      <td>1951</td>\n",
              "      <td>81</td>\n",
              "      <td>thriller</td>\n",
              "      <td>7.1</td>\n",
              "      <td>35</td>\n",
              "      <td>US</td>\n",
              "    </tr>\n",
              "  </tbody>\n",
              "</table>\n",
              "</div>"
            ],
            "text/plain": [
              "   tconst  startYear  runtimeMinutes    genres averageRating  numVotes region\n",
              "0   42354       1951              99   mystery           7.2       184     US\n",
              "1   42354       1951              99   mystery           7.2       184     US\n",
              "2   42429       1951              88    comedy           7.1       407     US\n",
              "3   42619       1951             115     drama           8.0      8843     US\n",
              "4   42900       1951              81  thriller           7.1        35     US"
            ]
          },
          "metadata": {
            "tags": []
          },
          "execution_count": 169
        }
      ]
    },
    {
      "cell_type": "code",
      "metadata": {
        "colab_type": "code",
        "id": "PCLHkl07_I1C",
        "outputId": "376f86a1-6f1b-4672-ce9d-0a828a6817b4",
        "colab": {
          "base_uri": "https://localhost:8080/",
          "height": 35
        }
      },
      "source": [
        "df_imdb.shape"
      ],
      "execution_count": 0,
      "outputs": [
        {
          "output_type": "execute_result",
          "data": {
            "text/plain": [
              "(22492, 7)"
            ]
          },
          "metadata": {
            "tags": []
          },
          "execution_count": 170
        }
      ]
    },
    {
      "cell_type": "code",
      "metadata": {
        "colab_type": "code",
        "id": "Vz_HK0nk_OmK",
        "colab": {}
      },
      "source": [
        "df_imdb = pd.merge(df_imdb, df_princ, on='tconst')"
      ],
      "execution_count": 0,
      "outputs": []
    },
    {
      "cell_type": "code",
      "metadata": {
        "colab_type": "code",
        "id": "gwHTlAmL_gO9",
        "outputId": "10ea1407-c5f2-4531-c32e-7ad6e905a23f",
        "colab": {
          "base_uri": "https://localhost:8080/",
          "height": 198
        }
      },
      "source": [
        "df_imdb.head()"
      ],
      "execution_count": 0,
      "outputs": [
        {
          "output_type": "execute_result",
          "data": {
            "text/html": [
              "<div>\n",
              "<style scoped>\n",
              "    .dataframe tbody tr th:only-of-type {\n",
              "        vertical-align: middle;\n",
              "    }\n",
              "\n",
              "    .dataframe tbody tr th {\n",
              "        vertical-align: top;\n",
              "    }\n",
              "\n",
              "    .dataframe thead th {\n",
              "        text-align: right;\n",
              "    }\n",
              "</style>\n",
              "<table border=\"1\" class=\"dataframe\">\n",
              "  <thead>\n",
              "    <tr style=\"text-align: right;\">\n",
              "      <th></th>\n",
              "      <th>tconst</th>\n",
              "      <th>startYear</th>\n",
              "      <th>runtimeMinutes</th>\n",
              "      <th>genres</th>\n",
              "      <th>averageRating</th>\n",
              "      <th>numVotes</th>\n",
              "      <th>region</th>\n",
              "      <th>nconst</th>\n",
              "    </tr>\n",
              "  </thead>\n",
              "  <tbody>\n",
              "    <tr>\n",
              "      <th>0</th>\n",
              "      <td>42354</td>\n",
              "      <td>1951</td>\n",
              "      <td>99</td>\n",
              "      <td>mystery</td>\n",
              "      <td>7.2</td>\n",
              "      <td>184</td>\n",
              "      <td>US</td>\n",
              "      <td>nm0743100</td>\n",
              "    </tr>\n",
              "    <tr>\n",
              "      <th>1</th>\n",
              "      <td>42354</td>\n",
              "      <td>1951</td>\n",
              "      <td>99</td>\n",
              "      <td>mystery</td>\n",
              "      <td>7.2</td>\n",
              "      <td>184</td>\n",
              "      <td>US</td>\n",
              "      <td>nm0885203</td>\n",
              "    </tr>\n",
              "    <tr>\n",
              "      <th>2</th>\n",
              "      <td>42354</td>\n",
              "      <td>1951</td>\n",
              "      <td>99</td>\n",
              "      <td>mystery</td>\n",
              "      <td>7.2</td>\n",
              "      <td>184</td>\n",
              "      <td>US</td>\n",
              "      <td>nm0603761</td>\n",
              "    </tr>\n",
              "    <tr>\n",
              "      <th>3</th>\n",
              "      <td>42354</td>\n",
              "      <td>1951</td>\n",
              "      <td>99</td>\n",
              "      <td>mystery</td>\n",
              "      <td>7.2</td>\n",
              "      <td>184</td>\n",
              "      <td>US</td>\n",
              "      <td>nm0192490</td>\n",
              "    </tr>\n",
              "    <tr>\n",
              "      <th>4</th>\n",
              "      <td>42354</td>\n",
              "      <td>1951</td>\n",
              "      <td>99</td>\n",
              "      <td>mystery</td>\n",
              "      <td>7.2</td>\n",
              "      <td>184</td>\n",
              "      <td>US</td>\n",
              "      <td>nm0274671</td>\n",
              "    </tr>\n",
              "  </tbody>\n",
              "</table>\n",
              "</div>"
            ],
            "text/plain": [
              "   tconst  startYear  runtimeMinutes   genres averageRating  numVotes region  \\\n",
              "0   42354       1951              99  mystery           7.2       184     US   \n",
              "1   42354       1951              99  mystery           7.2       184     US   \n",
              "2   42354       1951              99  mystery           7.2       184     US   \n",
              "3   42354       1951              99  mystery           7.2       184     US   \n",
              "4   42354       1951              99  mystery           7.2       184     US   \n",
              "\n",
              "      nconst  \n",
              "0  nm0743100  \n",
              "1  nm0885203  \n",
              "2  nm0603761  \n",
              "3  nm0192490  \n",
              "4  nm0274671  "
            ]
          },
          "metadata": {
            "tags": []
          },
          "execution_count": 172
        }
      ]
    },
    {
      "cell_type": "code",
      "metadata": {
        "colab_type": "code",
        "id": "rCPJsj07_pMp",
        "outputId": "a3371c42-ab2b-499d-fd96-7e0947ee5a7f",
        "colab": {
          "base_uri": "https://localhost:8080/",
          "height": 35
        }
      },
      "source": [
        "df_imdb.shape"
      ],
      "execution_count": 0,
      "outputs": [
        {
          "output_type": "execute_result",
          "data": {
            "text/plain": [
              "(193165, 8)"
            ]
          },
          "metadata": {
            "tags": []
          },
          "execution_count": 173
        }
      ]
    },
    {
      "cell_type": "code",
      "metadata": {
        "id": "DAyzYySnBlnq",
        "colab_type": "code",
        "colab": {},
        "outputId": "8510b3f5-11de-45af-bade-05e6b77b70e9"
      },
      "source": [
        "df_imdb.isnull().sum()"
      ],
      "execution_count": 0,
      "outputs": [
        {
          "output_type": "execute_result",
          "data": {
            "text/plain": [
              "tconst            0\n",
              "startYear         0\n",
              "runtimeMinutes    0\n",
              "genres            0\n",
              "averageRating     0\n",
              "numVotes          0\n",
              "region            0\n",
              "nconst            0\n",
              "dtype: int64"
            ]
          },
          "metadata": {
            "tags": []
          },
          "execution_count": 174
        }
      ]
    },
    {
      "cell_type": "code",
      "metadata": {
        "id": "esHxm0FCBlnw",
        "colab_type": "code",
        "colab": {},
        "outputId": "2074244c-9c44-4c1a-9507-a657c7be3edd"
      },
      "source": [
        "df_imdb['nconst'].value_counts()"
      ],
      "execution_count": 0,
      "outputs": [
        {
          "output_type": "execute_result",
          "data": {
            "text/plain": [
              "nm0002354    80\n",
              "nm0001553    59\n",
              "nm0000229    57\n",
              "nm0000636    55\n",
              "nm0441526    53\n",
              "             ..\n",
              "nm1009007     1\n",
              "nm4458811     1\n",
              "nm0609662     1\n",
              "nm2320164     1\n",
              "nm0780915     1\n",
              "Name: nconst, Length: 117873, dtype: int64"
            ]
          },
          "metadata": {
            "tags": []
          },
          "execution_count": 175
        }
      ]
    },
    {
      "cell_type": "code",
      "metadata": {
        "id": "s2JGoETFBln9",
        "colab_type": "code",
        "colab": {}
      },
      "source": [
        "#df_imdb = pd.merge(df_imdb, df_crew, on='tconst')"
      ],
      "execution_count": 0,
      "outputs": []
    },
    {
      "cell_type": "code",
      "metadata": {
        "id": "A4zdRAccBloG",
        "colab_type": "code",
        "colab": {}
      },
      "source": [
        "#df_imdb.head()"
      ],
      "execution_count": 0,
      "outputs": []
    },
    {
      "cell_type": "code",
      "metadata": {
        "id": "TICr52nYBloS",
        "colab_type": "code",
        "colab": {}
      },
      "source": [
        "#delete region column now that df is sorted\n",
        "\n",
        "df_imdb = df_imdb.drop(columns=['region'])"
      ],
      "execution_count": 0,
      "outputs": []
    },
    {
      "cell_type": "code",
      "metadata": {
        "id": "tUHaOvOnBloa",
        "colab_type": "code",
        "colab": {},
        "outputId": "99788017-95fb-4f0b-c908-328268ec67f4"
      },
      "source": [
        "df_imdb.head()"
      ],
      "execution_count": 0,
      "outputs": [
        {
          "output_type": "execute_result",
          "data": {
            "text/html": [
              "<div>\n",
              "<style scoped>\n",
              "    .dataframe tbody tr th:only-of-type {\n",
              "        vertical-align: middle;\n",
              "    }\n",
              "\n",
              "    .dataframe tbody tr th {\n",
              "        vertical-align: top;\n",
              "    }\n",
              "\n",
              "    .dataframe thead th {\n",
              "        text-align: right;\n",
              "    }\n",
              "</style>\n",
              "<table border=\"1\" class=\"dataframe\">\n",
              "  <thead>\n",
              "    <tr style=\"text-align: right;\">\n",
              "      <th></th>\n",
              "      <th>tconst</th>\n",
              "      <th>startYear</th>\n",
              "      <th>runtimeMinutes</th>\n",
              "      <th>genres</th>\n",
              "      <th>averageRating</th>\n",
              "      <th>numVotes</th>\n",
              "      <th>nconst</th>\n",
              "    </tr>\n",
              "  </thead>\n",
              "  <tbody>\n",
              "    <tr>\n",
              "      <th>0</th>\n",
              "      <td>42354</td>\n",
              "      <td>1951</td>\n",
              "      <td>99</td>\n",
              "      <td>mystery</td>\n",
              "      <td>7.2</td>\n",
              "      <td>184</td>\n",
              "      <td>nm0743100</td>\n",
              "    </tr>\n",
              "    <tr>\n",
              "      <th>1</th>\n",
              "      <td>42354</td>\n",
              "      <td>1951</td>\n",
              "      <td>99</td>\n",
              "      <td>mystery</td>\n",
              "      <td>7.2</td>\n",
              "      <td>184</td>\n",
              "      <td>nm0885203</td>\n",
              "    </tr>\n",
              "    <tr>\n",
              "      <th>2</th>\n",
              "      <td>42354</td>\n",
              "      <td>1951</td>\n",
              "      <td>99</td>\n",
              "      <td>mystery</td>\n",
              "      <td>7.2</td>\n",
              "      <td>184</td>\n",
              "      <td>nm0603761</td>\n",
              "    </tr>\n",
              "    <tr>\n",
              "      <th>3</th>\n",
              "      <td>42354</td>\n",
              "      <td>1951</td>\n",
              "      <td>99</td>\n",
              "      <td>mystery</td>\n",
              "      <td>7.2</td>\n",
              "      <td>184</td>\n",
              "      <td>nm0192490</td>\n",
              "    </tr>\n",
              "    <tr>\n",
              "      <th>4</th>\n",
              "      <td>42354</td>\n",
              "      <td>1951</td>\n",
              "      <td>99</td>\n",
              "      <td>mystery</td>\n",
              "      <td>7.2</td>\n",
              "      <td>184</td>\n",
              "      <td>nm0274671</td>\n",
              "    </tr>\n",
              "  </tbody>\n",
              "</table>\n",
              "</div>"
            ],
            "text/plain": [
              "   tconst  startYear  runtimeMinutes   genres averageRating  numVotes  \\\n",
              "0   42354       1951              99  mystery           7.2       184   \n",
              "1   42354       1951              99  mystery           7.2       184   \n",
              "2   42354       1951              99  mystery           7.2       184   \n",
              "3   42354       1951              99  mystery           7.2       184   \n",
              "4   42354       1951              99  mystery           7.2       184   \n",
              "\n",
              "      nconst  \n",
              "0  nm0743100  \n",
              "1  nm0885203  \n",
              "2  nm0603761  \n",
              "3  nm0192490  \n",
              "4  nm0274671  "
            ]
          },
          "metadata": {
            "tags": []
          },
          "execution_count": 177
        }
      ]
    },
    {
      "cell_type": "code",
      "metadata": {
        "id": "hSiBZYZvBlol",
        "colab_type": "code",
        "colab": {},
        "outputId": "05bb4738-2db5-40bb-ed0a-edbfe0d8981c"
      },
      "source": [
        "df_imdb.shape"
      ],
      "execution_count": 0,
      "outputs": [
        {
          "output_type": "execute_result",
          "data": {
            "text/plain": [
              "(193165, 7)"
            ]
          },
          "metadata": {
            "tags": []
          },
          "execution_count": 178
        }
      ]
    },
    {
      "cell_type": "markdown",
      "metadata": {
        "colab_type": "text",
        "id": "hQPun1HgAGiH"
      },
      "source": [
        "Feature Importance "
      ]
    },
    {
      "cell_type": "code",
      "metadata": {
        "colab_type": "code",
        "id": "auAXFT41B4-L",
        "colab": {}
      },
      "source": [
        "target = 'averageRating'\n",
        "features = df_imdb.columns.drop('averageRating')"
      ],
      "execution_count": 0,
      "outputs": []
    },
    {
      "cell_type": "code",
      "metadata": {
        "colab_type": "code",
        "id": "46HZ57INCBD_",
        "colab": {}
      },
      "source": [
        "import numpy as np\n",
        "from sklearn.model_selection import train_test_split\n",
        "\n",
        "#target needs to be test df\n",
        "\n",
        "X = df_imdb[features]\n",
        "Y = df_imdb[target]\n",
        "\n",
        "X_train, X_test, y_train, y_test = train_test_split(X, Y, test_size=0.2, random_state=1)\n",
        "\n",
        "X_train, X_val, y_train, y_val = train_test_split(X_train, y_train, test_size=0.2, random_state=1)"
      ],
      "execution_count": 0,
      "outputs": []
    },
    {
      "cell_type": "code",
      "metadata": {
        "colab_type": "code",
        "id": "levPyNTwCO4u",
        "colab": {}
      },
      "source": [
        "import category_encoders as ce\n",
        "from sklearn.impute import SimpleImputer\n",
        "from sklearn.ensemble import RandomForestClassifier\n",
        "from sklearn.model_selection import train_test_split\n",
        "from sklearn.pipeline import make_pipeline"
      ],
      "execution_count": 0,
      "outputs": []
    },
    {
      "cell_type": "code",
      "metadata": {
        "id": "dIRa9T9IBlpW",
        "colab_type": "code",
        "colab": {},
        "outputId": "eccc7afa-c2f5-43d3-942e-ac7d7e701de2"
      },
      "source": [
        "pipeline = make_pipeline(\n",
        "    ce.OrdinalEncoder(), \n",
        "    SimpleImputer(strategy='median'), \n",
        "    RandomForestClassifier(n_estimators=50, random_state=42, n_jobs=-1)\n",
        "    )\n",
        "\n",
        "# Fit on train, score on val\n",
        "pipeline.fit(X_train, y_train)\n",
        "print('Validation Accuracy', pipeline.score(X_val, y_val))"
      ],
      "execution_count": 0,
      "outputs": [
        {
          "output_type": "stream",
          "text": [
            "Validation Accuracy 0.9942731420066652\n"
          ],
          "name": "stdout"
        }
      ]
    },
    {
      "cell_type": "code",
      "metadata": {
        "colab_type": "code",
        "id": "_KOKEqnSCHZJ",
        "colab": {},
        "outputId": "36ac2720-3f5e-4b6f-c957-b182b3100a48"
      },
      "source": [
        "# Get feature importances\n",
        "rf = pipeline.named_steps['randomforestclassifier']\n",
        "importances = pd.Series(rf.feature_importances_, X_train.columns)\n",
        "\n",
        "# Plot feature importances\n",
        "%matplotlib inline\n",
        "import matplotlib.pyplot as plt\n",
        "\n",
        "n = 20\n",
        "plt.figure(figsize=(10,n/2))\n",
        "plt.title(f'Top {n} features')\n",
        "importances.sort_values()[-n:].plot.barh(color='grey');"
      ],
      "execution_count": 0,
      "outputs": [
        {
          "output_type": "display_data",
          "data": {
            "image/png": "[encoded data removed]",
            "text/plain": [
              "<Figure size 720x720 with 1 Axes>"
            ]
          },
          "metadata": {
            "tags": [],
            "needs_background": "light"
          }
        }
      ]
    },
    {
      "cell_type": "code",
      "metadata": {
        "id": "KOzVsmTQBlpp",
        "colab_type": "code",
        "colab": {}
      },
      "source": [
        "#Need to make ratings a categorical variable to fit an xgboost model\n",
        "#import category_encoders as ce\n",
        "#from sklearn.pipeline import make_pipeline\n",
        "from xgboost import XGBClassifier\n",
        "\n",
        "pipeline = make_pipeline(\n",
        "    ce.OrdinalEncoder(), \n",
        "    XGBClassifier(n_estimators=100, random_state=42, n_jobs=-1)\n",
        ")\n",
        "\n",
        "pipeline.fit(X_train, y_train)"
      ],
      "execution_count": 0,
      "outputs": []
    },
    {
      "cell_type": "code",
      "metadata": {
        "id": "OR-CMVX_Blpy",
        "colab_type": "code",
        "colab": {}
      },
      "source": [
        "from sklearn.metrics import accuracy_score\n",
        "y_pred = pipeline.predict(X_train)\n",
        "print('Validation Accuracy', accuracy_score(y_train, y_pred))"
      ],
      "execution_count": 0,
      "outputs": []
    },
    {
      "cell_type": "markdown",
      "metadata": {
        "id": "hGKQd3tVBlp3",
        "colab_type": "text"
      },
      "source": [
        "Split by genre "
      ]
    },
    {
      "cell_type": "code",
      "metadata": {
        "id": "lYa3q5yWBlp5",
        "colab_type": "code",
        "colab": {}
      },
      "source": [
        "df_drama = df_imdb[df_imdb['genres'].str.contains('drama')]"
      ],
      "execution_count": 0,
      "outputs": []
    },
    {
      "cell_type": "code",
      "metadata": {
        "id": "jR3SmwfoBlp_",
        "colab_type": "code",
        "colab": {},
        "outputId": "65889e48-5400-4527-855a-8e6bbf693ba5"
      },
      "source": [
        "df_drama.head()"
      ],
      "execution_count": 0,
      "outputs": [
        {
          "output_type": "execute_result",
          "data": {
            "text/html": [
              "<div>\n",
              "<style scoped>\n",
              "    .dataframe tbody tr th:only-of-type {\n",
              "        vertical-align: middle;\n",
              "    }\n",
              "\n",
              "    .dataframe tbody tr th {\n",
              "        vertical-align: top;\n",
              "    }\n",
              "\n",
              "    .dataframe thead th {\n",
              "        text-align: right;\n",
              "    }\n",
              "</style>\n",
              "<table border=\"1\" class=\"dataframe\">\n",
              "  <thead>\n",
              "    <tr style=\"text-align: right;\">\n",
              "      <th></th>\n",
              "      <th>tconst</th>\n",
              "      <th>startYear</th>\n",
              "      <th>runtimeMinutes</th>\n",
              "      <th>genres</th>\n",
              "      <th>averageRating</th>\n",
              "      <th>numVotes</th>\n",
              "      <th>nconst</th>\n",
              "    </tr>\n",
              "  </thead>\n",
              "  <tbody>\n",
              "    <tr>\n",
              "      <th>30</th>\n",
              "      <td>42619</td>\n",
              "      <td>1951</td>\n",
              "      <td>115</td>\n",
              "      <td>drama</td>\n",
              "      <td>8.0</td>\n",
              "      <td>8843</td>\n",
              "      <td>nm0493508</td>\n",
              "    </tr>\n",
              "    <tr>\n",
              "      <th>31</th>\n",
              "      <td>42619</td>\n",
              "      <td>1951</td>\n",
              "      <td>115</td>\n",
              "      <td>drama</td>\n",
              "      <td>8.0</td>\n",
              "      <td>8843</td>\n",
              "      <td>nm0480564</td>\n",
              "    </tr>\n",
              "    <tr>\n",
              "      <th>32</th>\n",
              "      <td>42619</td>\n",
              "      <td>1951</td>\n",
              "      <td>115</td>\n",
              "      <td>drama</td>\n",
              "      <td>8.0</td>\n",
              "      <td>8843</td>\n",
              "      <td>nm0729635</td>\n",
              "    </tr>\n",
              "    <tr>\n",
              "      <th>33</th>\n",
              "      <td>42619</td>\n",
              "      <td>1951</td>\n",
              "      <td>115</td>\n",
              "      <td>drama</td>\n",
              "      <td>8.0</td>\n",
              "      <td>8843</td>\n",
              "      <td>nm0346653</td>\n",
              "    </tr>\n",
              "    <tr>\n",
              "      <th>34</th>\n",
              "      <td>42619</td>\n",
              "      <td>1951</td>\n",
              "      <td>115</td>\n",
              "      <td>drama</td>\n",
              "      <td>8.0</td>\n",
              "      <td>8843</td>\n",
              "      <td>nm0000975</td>\n",
              "    </tr>\n",
              "  </tbody>\n",
              "</table>\n",
              "</div>"
            ],
            "text/plain": [
              "    tconst  startYear  runtimeMinutes genres averageRating  numVotes  \\\n",
              "30   42619       1951             115  drama           8.0      8843   \n",
              "31   42619       1951             115  drama           8.0      8843   \n",
              "32   42619       1951             115  drama           8.0      8843   \n",
              "33   42619       1951             115  drama           8.0      8843   \n",
              "34   42619       1951             115  drama           8.0      8843   \n",
              "\n",
              "       nconst  \n",
              "30  nm0493508  \n",
              "31  nm0480564  \n",
              "32  nm0729635  \n",
              "33  nm0346653  \n",
              "34  nm0000975  "
            ]
          },
          "metadata": {
            "tags": []
          },
          "execution_count": 185
        }
      ]
    },
    {
      "cell_type": "code",
      "metadata": {
        "id": "7actnvGABlqE",
        "colab_type": "code",
        "colab": {}
      },
      "source": [
        "target_d = 'averageRating'\n",
        "features_d = df_drama.columns.drop('averageRating')"
      ],
      "execution_count": 0,
      "outputs": []
    },
    {
      "cell_type": "code",
      "metadata": {
        "id": "_sWtGbUXBlqJ",
        "colab_type": "code",
        "colab": {}
      },
      "source": [
        "import numpy as np\n",
        "from sklearn.model_selection import train_test_split\n",
        "\n",
        "#target needs to be test df\n",
        "\n",
        "X = df_drama[features_d]\n",
        "Y = df_drama[target_d]\n",
        "\n",
        "X_train, X_test, y_train, y_test = train_test_split(X, Y, test_size=0.2, random_state=1)\n",
        "\n",
        "X_train, X_val, y_train, y_val = train_test_split(X_train, y_train, test_size=0.2, random_state=1)"
      ],
      "execution_count": 0,
      "outputs": []
    },
    {
      "cell_type": "code",
      "metadata": {
        "id": "bWqAmgleBlqP",
        "colab_type": "code",
        "colab": {}
      },
      "source": [
        "import category_encoders as ce\n",
        "from sklearn.impute import SimpleImputer\n",
        "from sklearn.ensemble import RandomForestClassifier\n",
        "from sklearn.model_selection import train_test_split\n",
        "from sklearn.pipeline import make_pipeline"
      ],
      "execution_count": 0,
      "outputs": []
    },
    {
      "cell_type": "code",
      "metadata": {
        "id": "tyUtH3VhBlqU",
        "colab_type": "code",
        "colab": {},
        "outputId": "92286678-4fbb-4669-d693-d8a882d1da40"
      },
      "source": [
        "pipeline = make_pipeline(\n",
        "    ce.OrdinalEncoder(), \n",
        "    SimpleImputer(strategy='median'), \n",
        "    RandomForestClassifier(n_estimators=50, random_state=42, n_jobs=-1)\n",
        "    )\n",
        "\n",
        "# Fit on train, score on val\n",
        "pipeline.fit(X_train, y_train)\n",
        "print('Validation Accuracy', pipeline.score(X_val, y_val))"
      ],
      "execution_count": 0,
      "outputs": [
        {
          "output_type": "stream",
          "text": [
            "Validation Accuracy 0.9950506186726659\n"
          ],
          "name": "stdout"
        }
      ]
    },
    {
      "cell_type": "code",
      "metadata": {
        "id": "mUcaKoIABlqY",
        "colab_type": "code",
        "colab": {},
        "outputId": "0ebdf2e4-06e3-4090-f480-0a6993f416e0"
      },
      "source": [
        "# Get feature importances\n",
        "rf = pipeline.named_steps['randomforestclassifier']\n",
        "importances = pd.Series(rf.feature_importances_, X_train.columns)\n",
        "\n",
        "# Plot feature importances\n",
        "%matplotlib inline\n",
        "import matplotlib.pyplot as plt\n",
        "\n",
        "n = 20\n",
        "plt.figure(figsize=(10,n/2))\n",
        "plt.title(f'Top {n} features')\n",
        "importances.sort_values()[-n:].plot.barh(color='grey');"
      ],
      "execution_count": 0,
      "outputs": [
        {
          "output_type": "display_data",
          "data": {
            "image/png": "[encoded data removed]",
            "text/plain": [
              "<Figure size 720x720 with 1 Axes>"
            ]
          },
          "metadata": {
            "tags": [],
            "needs_background": "light"
          }
        }
      ]
    },
    {
      "cell_type": "code",
      "metadata": {
        "id": "35ReKNWRBlqf",
        "colab_type": "code",
        "colab": {}
      },
      "source": [
        ""
      ],
      "execution_count": 0,
      "outputs": []
    },
    {
      "cell_type": "markdown",
      "metadata": {
        "id": "37QKteNZBlqj",
        "colab_type": "text"
      },
      "source": [
        "Look into actors??"
      ]
    },
    {
      "cell_type": "code",
      "metadata": {
        "id": "tJ_iVEFBBlqk",
        "colab_type": "code",
        "colab": {}
      },
      "source": [
        "df_princ['nconst'].value_counts()"
      ],
      "execution_count": 0,
      "outputs": []
    },
    {
      "cell_type": "code",
      "metadata": {
        "id": "2-F5OR0TBlqq",
        "colab_type": "code",
        "colab": {}
      },
      "source": [
        ""
      ],
      "execution_count": 0,
      "outputs": []
    }
  ]
}